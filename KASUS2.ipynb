{
  "nbformat": 4,
  "nbformat_minor": 0,
  "metadata": {
    "colab": {
      "provenance": []
    },
    "kernelspec": {
      "name": "python3",
      "display_name": "Python 3"
    },
    "language_info": {
      "name": "python"
    }
  },
  "cells": [
    {
      "cell_type": "code",
      "execution_count": 1,
      "metadata": {
        "colab": {
          "base_uri": "https://localhost:8080/"
        },
        "id": "xLZiBBJ06-QR",
        "outputId": "a6542a93-631d-4690-f430-797836f27a3d"
      },
      "outputs": [
        {
          "output_type": "stream",
          "name": "stdout",
          "text": [
            "Requirement already satisfied: transformers in /usr/local/lib/python3.10/dist-packages (4.47.1)\n",
            "Requirement already satisfied: filelock in /usr/local/lib/python3.10/dist-packages (from transformers) (3.16.1)\n",
            "Requirement already satisfied: huggingface-hub<1.0,>=0.24.0 in /usr/local/lib/python3.10/dist-packages (from transformers) (0.27.0)\n",
            "Requirement already satisfied: numpy>=1.17 in /usr/local/lib/python3.10/dist-packages (from transformers) (1.26.4)\n",
            "Requirement already satisfied: packaging>=20.0 in /usr/local/lib/python3.10/dist-packages (from transformers) (24.2)\n",
            "Requirement already satisfied: pyyaml>=5.1 in /usr/local/lib/python3.10/dist-packages (from transformers) (6.0.2)\n",
            "Requirement already satisfied: regex!=2019.12.17 in /usr/local/lib/python3.10/dist-packages (from transformers) (2024.11.6)\n",
            "Requirement already satisfied: requests in /usr/local/lib/python3.10/dist-packages (from transformers) (2.32.3)\n",
            "Requirement already satisfied: tokenizers<0.22,>=0.21 in /usr/local/lib/python3.10/dist-packages (from transformers) (0.21.0)\n",
            "Requirement already satisfied: safetensors>=0.4.1 in /usr/local/lib/python3.10/dist-packages (from transformers) (0.4.5)\n",
            "Requirement already satisfied: tqdm>=4.27 in /usr/local/lib/python3.10/dist-packages (from transformers) (4.67.1)\n",
            "Requirement already satisfied: fsspec>=2023.5.0 in /usr/local/lib/python3.10/dist-packages (from huggingface-hub<1.0,>=0.24.0->transformers) (2024.10.0)\n",
            "Requirement already satisfied: typing-extensions>=3.7.4.3 in /usr/local/lib/python3.10/dist-packages (from huggingface-hub<1.0,>=0.24.0->transformers) (4.12.2)\n",
            "Requirement already satisfied: charset-normalizer<4,>=2 in /usr/local/lib/python3.10/dist-packages (from requests->transformers) (3.4.0)\n",
            "Requirement already satisfied: idna<4,>=2.5 in /usr/local/lib/python3.10/dist-packages (from requests->transformers) (3.10)\n",
            "Requirement already satisfied: urllib3<3,>=1.21.1 in /usr/local/lib/python3.10/dist-packages (from requests->transformers) (2.2.3)\n",
            "Requirement already satisfied: certifi>=2017.4.17 in /usr/local/lib/python3.10/dist-packages (from requests->transformers) (2024.12.14)\n"
          ]
        }
      ],
      "source": [
        "!pip install transformers"
      ]
    },
    {
      "cell_type": "code",
      "source": [
        "!pip install PyPDF2"
      ],
      "metadata": {
        "colab": {
          "base_uri": "https://localhost:8080/"
        },
        "id": "Z-7l1VVJ8SxW",
        "outputId": "e1a953c4-a402-4eef-e836-4e4f5e5b9a4c"
      },
      "execution_count": 2,
      "outputs": [
        {
          "output_type": "stream",
          "name": "stdout",
          "text": [
            "Requirement already satisfied: PyPDF2 in /usr/local/lib/python3.10/dist-packages (3.0.1)\n"
          ]
        }
      ]
    },
    {
      "cell_type": "markdown",
      "source": [
        "# SCRAPING FOR SUMMARIZATION"
      ],
      "metadata": {
        "id": "8D0nwnRytt1F"
      }
    },
    {
      "cell_type": "code",
      "source": [
        "import requests\n",
        "import PyPDF2  # Or pdfplumber, if you prefer\n",
        "from bs4 import BeautifulSoup\n",
        "from transformers import T5Tokenizer, T5ForConditionalGeneration\n",
        "import os\n",
        "from urllib.parse import urljoin  # To join base URL and relative URLs\n",
        "\n",
        "# Base URL of the website\n",
        "base_url = \"https://www.bi.go.id/\"\n",
        "\n",
        "# URL of the page\n",
        "url = \"https://www.bi.go.id/id/publikasi/peraturan/Pages/PADG_162024.aspx\"  # Replace with the actual URL\n",
        "\n",
        "# Make a request to the website\n",
        "response = requests.get(url)\n",
        "soup = BeautifulSoup(response.text, 'html.parser')\n",
        "\n",
        "# Variables to store content\n",
        "from_Web = \"\"\n",
        "from_pdf1 = \"\"\n",
        "from_pdf2 = \"\"\n",
        "\n",
        "# Extract text content from the webpage\n",
        "web_content_div = soup.find('div', id='ctl00_PlaceHolderMain_ctl04__ControlWrapper_RichHtmlField')\n",
        "if web_content_div:\n",
        "    from_Web = web_content_div.get_text(strip=True)\n",
        "\n",
        "# Extract the PDF link from div with ID 'layout-lampiran'\n",
        "lampiran_div = soup.find('div', id='layout-lampiran')\n",
        "if lampiran_div:\n",
        "    pdf_links = lampiran_div.find_all('a', href=True)\n",
        "    print(pdf_links)\n",
        "\n",
        "    # Loop through each found link and extract the PDF URLs\n",
        "    pdf_count = 1  # Counter for naming PDFs\n",
        "    for pdf_link in pdf_links:\n",
        "        pdf_url = pdf_link['href']\n",
        "\n",
        "        # Ensure the URL is absolute\n",
        "        pdf_url = urljoin(base_url, pdf_url)  # This ensures the link is absolute\n",
        "\n",
        "        if pdf_url.endswith(\".pdf\"):\n",
        "            print(\"PDF URL found:\", pdf_url)\n",
        "\n",
        "            # Extract file name from URL\n",
        "            pdf_filename = os.path.basename(pdf_url)\n",
        "\n",
        "            # Check if the PDF file already exists locally\n",
        "            if os.path.exists(pdf_filename):\n",
        "                print(f\"PDF already exists: {pdf_filename}\")\n",
        "            else:\n",
        "                # Download the PDF if it does not exist locally\n",
        "                pdf_response = requests.get(pdf_url)\n",
        "                if pdf_response.status_code == 200:\n",
        "                    with open(pdf_filename, 'wb') as pdf_file:\n",
        "                        pdf_file.write(pdf_response.content)\n",
        "                    print(f\"Downloaded PDF: {pdf_filename}\")\n",
        "                else:\n",
        "                    print(f\"Failed to download PDF: {pdf_filename}\")\n",
        "\n",
        "            # Extract text from the downloaded PDF\n",
        "            with open(pdf_filename, 'rb') as file:\n",
        "                # Create a PDF reader object\n",
        "                pdf_reader = PyPDF2.PdfReader(file)  # Or use pdfplumber here\n",
        "                text = \"\"\n",
        "                for page_num in range(len(pdf_reader.pages)):\n",
        "                    page = pdf_reader.pages[page_num]\n",
        "                    text += page.extract_text()\n",
        "\n",
        "                # Store text in the appropriate variable\n",
        "                if pdf_count == 1:\n",
        "                    from_pdf1 = text\n",
        "                elif pdf_count == 2:\n",
        "                    from_pdf2 = text\n",
        "                pdf_count += 1\n",
        "\n"
      ],
      "metadata": {
        "colab": {
          "base_uri": "https://localhost:8080/"
        },
        "id": "L6EWiUq58OeI",
        "outputId": "752a9ccf-b806-4f41-e1cf-01dd09272031"
      },
      "execution_count": 3,
      "outputs": [
        {
          "output_type": "stream",
          "name": "stdout",
          "text": [
            "[<a href=\"/id/publikasi/peraturan/Documents/PADG_162024.pdf\"><img alt=\"\" class=\"ms-asset-icon ms-rtePosition-4\" src=\"/_layouts/15/images/icpdf.png\"/>Peraturan Anggota Dewan Gubernur Nomor 16 Tahun 2024.pdf</a>, <a href=\"/id/publikasi/peraturan/Documents/FAQ_PADG_162024.pdf\"><img alt=\"\" class=\"ms-asset-icon ms-rtePosition-4\" src=\"/_layouts/15/images/icpdf.png\"/>Tanya Jawab Peraturan Anggota Dewan Gubernur Nomor 16 Tahun 2024.pdf</a>, <a href=\"/id/publikasi/peraturan/Documents/Lampiran_PADG_162024.zip\"><img alt=\"\" class=\"ms-asset-icon ms-rtePosition-4\" src=\"/_layouts/15/images/iczip.gif\"/>Lampiran Peraturan Anggota Dewan Gubernur Nomor 16​ Tahun 2024.zip</a>]\n",
            "PDF URL found: https://www.bi.go.id/id/publikasi/peraturan/Documents/PADG_162024.pdf\n",
            "PDF already exists: PADG_162024.pdf\n",
            "PDF URL found: https://www.bi.go.id/id/publikasi/peraturan/Documents/FAQ_PADG_162024.pdf\n",
            "PDF already exists: FAQ_PADG_162024.pdf\n"
          ]
        }
      ]
    },
    {
      "cell_type": "markdown",
      "source": [
        "# SUMMARIZATION LATAR PERATURRAN ANGGOTA DEWAN GUBERNUR NOMOR 16 TAHUN 2024 TENTANG TRANSAKSI PASAR VALUTA ASING BERDASARKAN PRINSIP SYARIAH"
      ],
      "metadata": {
        "id": "PryWLnYJtyYC"
      }
    },
    {
      "cell_type": "code",
      "source": [
        "from transformers import BartTokenizer, BartForConditionalGeneration\n",
        "\n",
        "tokenizer = BartTokenizer.from_pretrained(\"facebook/bart-large-cnn\")\n",
        "model = BartForConditionalGeneration.from_pretrained(\"facebook/bart-large-cnn\")\n",
        "\n",
        "def summarize_text(text, max_input_length=1024):\n",
        "    # Split text into chunks if it's too long\n",
        "    chunks = [text[i:i+max_input_length] for i in range(0, len(text), max_input_length)]\n",
        "    summaries = []\n",
        "\n",
        "    for chunk in chunks:\n",
        "        inputs = tokenizer(chunk, return_tensors=\"pt\", truncation=True, padding=\"longest\")\n",
        "        summary_ids = model.generate(inputs[\"input_ids\"], max_length=150, min_length=50, length_penalty=2.0, num_beams=4, early_stopping=True)\n",
        "        summary = tokenizer.decode(summary_ids[0], skip_special_tokens=True)\n",
        "        summaries.append(summary)\n",
        "\n",
        "    return \" \".join(summaries)\n",
        "\n",
        "long_text = from_Web\n",
        "summarized_text = summarize_text(long_text)\n",
        "print(summarized_text)\n"
      ],
      "metadata": {
        "colab": {
          "base_uri": "https://localhost:8080/"
        },
        "id": "jcz72eDPP7-L",
        "outputId": "c21275cb-13f0-4c7f-cf9b-359c88b7f1c7"
      },
      "execution_count": 4,
      "outputs": [
        {
          "output_type": "stream",
          "name": "stderr",
          "text": [
            "/usr/local/lib/python3.10/dist-packages/huggingface_hub/utils/_auth.py:94: UserWarning: \n",
            "The secret `HF_TOKEN` does not exist in your Colab secrets.\n",
            "To authenticate with the Hugging Face Hub, create a token in your settings tab (https://huggingface.co/settings/tokens), set it as secret in your Google Colab and restart your session.\n",
            "You will be able to reuse this secret in all of your notebooks.\n",
            "Please note that authentication is recommended but still optional to access public models or datasets.\n",
            "  warnings.warn(\n",
            "Asking to truncate to max_length but no maximum length is provided and the model has no predefined maximum length. Default to no truncation.\n"
          ]
        },
        {
          "output_type": "stream",
          "name": "stdout",
          "text": [
            "Bank Indonesia melakukan penyempurnaan pengaturan di pasar valuta asing melalui penerbitan Peraturan Anggota Dewan Gubernur (PADG) No. 16 Tahun 2024 tentang Transaksi Pasar Valuta Asing Berdasarkan Prinsip Syariah. PADG tentang Transaksi Pasar Valuta Asing Berdasarkan Prinsip Syariah mengatur mengenai hal-hal sebagai berikut. Istilah yang digunakan dalam kegiatan transaksi. Transaksi Pasar Valuta Asing Berdasarkan Prinsip Syariah yang mencakup:transaksi yang bersifat tunai; transaksi lindung nilai berd asarkan prinsip syariah; dantransaksi valuta asing lainnya yang ditetapkan oleh Bank Indonesia. Kewajiban bank untuk memastikan penyampaian dokumen underlying transaksi oleh pelaku Transaksi Valuta Asing Berdasarkan Prinsip Syariah. Aturan terkait jumlah tertentu (threshold) dan underlyingtransaksi mencakup antara lain. Pembiayaan dari bank kepada penduduk untuk tujuan perdagangan dan investasi. Underlying transaksi lain yang ditetapkan oleh Bank IndonesiaPembulatan nilai nominal underlying. Pengaturan bentuk-bentuk cara penyelesaian transaksi di Pasar Valuta Asing Berdasarkan Prinsip Syariah, antara lain:pemindahan dana pokok secara penuh (gross); atau pemindahan dana dengan memperhitungkan selisih kewajiban atas Transaksi (netting) Pengaturan mengenai data dan informasi antara lain pelaporan aktivitas di Pasar Valuta Asing Berdasarkan Prinsip Syariah. PADG mencabut Peraturan Anggota Dewan Gubernur Nomor 24/13/PADG/2022 tanggal 4 Agustus 2022.\n"
          ]
        }
      ]
    },
    {
      "cell_type": "code",
      "source": [
        "summarized_text"
      ],
      "metadata": {
        "colab": {
          "base_uri": "https://localhost:8080/",
          "height": 258
        },
        "id": "JglJvLiSRCdr",
        "outputId": "fbc12aca-f3a7-4dcf-916d-85fb637e9574"
      },
      "execution_count": 6,
      "outputs": [
        {
          "output_type": "execute_result",
          "data": {
            "text/plain": [
              "'Bank Indonesia melakukan penyempurnaan pengaturan di pasar valuta asing melalui penerbitan Peraturan Anggota Dewan Gubernur (PADG) No. 16 Tahun 2024 tentang Transaksi Pasar Valuta Asing Berdasarkan Prinsip Syariah. PADG tentang Transaksi Pasar Valuta Asing Berdasarkan Prinsip Syariah mengatur mengenai hal-hal sebagai berikut. Istilah yang digunakan dalam kegiatan transaksi. Transaksi Pasar Valuta Asing Berdasarkan Prinsip Syariah yang mencakup:transaksi yang bersifat tunai; transaksi lindung nilai berd asarkan prinsip syariah; dantransaksi valuta asing lainnya yang ditetapkan oleh Bank Indonesia. Kewajiban bank untuk memastikan penyampaian dokumen underlying transaksi oleh pelaku Transaksi Valuta Asing Berdasarkan Prinsip Syariah. Aturan terkait jumlah tertentu (threshold) dan underlyingtransaksi mencakup antara lain. Pembiayaan dari bank kepada penduduk untuk tujuan perdagangan dan investasi. Underlying transaksi lain yang ditetapkan oleh Bank IndonesiaPembulatan nilai nominal underlying. Pengaturan bentuk-bentuk cara penyelesaian transaksi di Pasar Valuta Asing Berdasarkan Prinsip Syariah, antara lain:pemindahan dana pokok secara penuh (gross); atau pemindahan dana dengan memperhitungkan selisih kewajiban atas Transaksi (netting) Pengaturan mengenai data dan informasi antara lain pelaporan aktivitas di Pasar Valuta Asing Berdasarkan Prinsip Syariah. PADG mencabut Peraturan Anggota Dewan Gubernur Nomor 24/13/PADG/2022 tanggal 4 Agustus 2022.'"
            ],
            "application/vnd.google.colaboratory.intrinsic+json": {
              "type": "string"
            }
          },
          "metadata": {},
          "execution_count": 6
        }
      ]
    },
    {
      "cell_type": "markdown",
      "source": [
        "# GAP ANALYSIS"
      ],
      "metadata": {
        "id": "slt5vpOstrFu"
      }
    },
    {
      "cell_type": "code",
      "source": [
        "!pip install PyPDF2"
      ],
      "metadata": {
        "colab": {
          "base_uri": "https://localhost:8080/"
        },
        "id": "Jjd4cloHwVE0",
        "outputId": "5ec5c1c3-2444-4d45-a4ae-4e97c90ef6ec"
      },
      "execution_count": 11,
      "outputs": [
        {
          "output_type": "stream",
          "name": "stdout",
          "text": [
            "Requirement already satisfied: PyPDF2 in /usr/local/lib/python3.10/dist-packages (3.0.1)\n"
          ]
        }
      ]
    },
    {
      "cell_type": "code",
      "source": [
        "pdf_link_1 = \"https://www.bi.go.id/id/publikasi/peraturan/PublishingImages/Pages/sp_241322/PADG_241322.pdf\"  # Ganti dengan link PADG Nomor 24/13/PADG/2022\n",
        "pdf_link_2 = \"https://www.bi.go.id/id/publikasi/peraturan/Documents/PADG_162024.pdf\""
      ],
      "metadata": {
        "id": "kB-XnqTww2JC"
      },
      "execution_count": 13,
      "outputs": []
    },
    {
      "cell_type": "code",
      "source": [
        "!pip install PyMuPDF"
      ],
      "metadata": {
        "colab": {
          "base_uri": "https://localhost:8080/"
        },
        "id": "QTswmdx00dKT",
        "outputId": "4fb3cc96-086c-4d20-9732-8cb25332dfc7"
      },
      "execution_count": 17,
      "outputs": [
        {
          "output_type": "stream",
          "name": "stdout",
          "text": [
            "Collecting PyMuPDF\n",
            "  Downloading pymupdf-1.25.1-cp39-abi3-manylinux2014_x86_64.manylinux_2_17_x86_64.whl.metadata (3.4 kB)\n",
            "Downloading pymupdf-1.25.1-cp39-abi3-manylinux2014_x86_64.manylinux_2_17_x86_64.whl (20.0 MB)\n",
            "\u001b[2K   \u001b[90m━━━━━━━━━━━━━━━━━━━━━━━━━━━━━━━━━━━━━━━━\u001b[0m \u001b[32m20.0/20.0 MB\u001b[0m \u001b[31m18.4 MB/s\u001b[0m eta \u001b[36m0:00:00\u001b[0m\n",
            "\u001b[?25hInstalling collected packages: PyMuPDF\n",
            "Successfully installed PyMuPDF-1.25.1\n"
          ]
        }
      ]
    },
    {
      "cell_type": "code",
      "source": [
        "import requests\n",
        "import fitz  # PyMuPDF\n",
        "import nltk\n",
        "nltk.download('punkt_tab')\n",
        "from nltk.tokenize import sent_tokenize\n",
        "from transformers import BertTokenizer, BertModel\n",
        "import torch\n",
        "from sklearn.metrics.pairwise import cosine_similarity\n",
        "\n",
        "# Langkah 1: Mengambil PDF dari URL dan mengekstrak teks\n",
        "def download_and_extract_pdf(url):\n",
        "    # Download PDF dari URL\n",
        "    response = requests.get(url)\n",
        "\n",
        "    # Simpan file PDF\n",
        "    with open(\"temp.pdf\", \"wb\") as f:\n",
        "        f.write(response.content)\n",
        "\n",
        "    # Ekstrak teks dari PDF\n",
        "    pdf_document = fitz.open(\"temp.pdf\")\n",
        "    text = \"\"\n",
        "    for page_num in range(pdf_document.page_count):\n",
        "        page = pdf_document.load_page(page_num)\n",
        "        text += page.get_text()\n",
        "\n",
        "    return text\n",
        "\n",
        "# Langkah 2: Preprocessing Teks\n",
        "def preprocess_text(text):\n",
        "    # Tokenisasi teks menjadi kalimat\n",
        "    nltk.download('punkt')\n",
        "    sentences = sent_tokenize(text)\n",
        "    return sentences\n",
        "\n",
        "# Langkah 3: Menggunakan BERT untuk mendapatkan embeddings\n",
        "def get_embedding(text, tokenizer, model):\n",
        "    inputs = tokenizer(text, return_tensors=\"pt\", truncation=True, padding=True, max_length=512)\n",
        "    with torch.no_grad():\n",
        "        outputs = model(**inputs)\n",
        "    return outputs.last_hidden_state.mean(dim=1).squeeze()\n",
        "\n",
        "# Langkah 4: Menghitung kemiripan antar dua dokumen\n",
        "def calculate_similarity(doc1, doc2):\n",
        "    # Load pre-trained BERT model and tokenizer\n",
        "    tokenizer = BertTokenizer.from_pretrained('bert-base-uncased')\n",
        "    model = BertModel.from_pretrained('bert-base-uncased')\n",
        "\n",
        "    # Preprocess text: split into sentences\n",
        "    sentences_doc1 = preprocess_text(doc1)\n",
        "    sentences_doc2 = preprocess_text(doc2)\n",
        "\n",
        "    # Mendapatkan embeddings dari setiap kalimat\n",
        "    embeddings_doc1 = [get_embedding(sentence, tokenizer, model) for sentence in sentences_doc1]\n",
        "    embeddings_doc2 = [get_embedding(sentence, tokenizer, model) for sentence in sentences_doc2]\n",
        "\n",
        "    # Menghitung cosine similarity antar kalimat yang sesuai\n",
        "    similarities = []\n",
        "    for emb1 in embeddings_doc1:\n",
        "        for emb2 in embeddings_doc2:\n",
        "            similarity = cosine_similarity([emb1.numpy()], [emb2.numpy()])\n",
        "            similarities.append(similarity[0][0])\n",
        "\n",
        "    # Rata-rata similarity\n",
        "    avg_similarity = sum(similarities) / len(similarities) if similarities else 0\n",
        "    return avg_similarity\n",
        "\n",
        "# URL PDF 1 dan PDF 2\n",
        "url_pdf1 = \"https://www.bi.go.id/id/publikasi/peraturan/PublishingImages/Pages/sp_241322/PADG_241322.pdf\"  # Ganti dengan link PADG Nomor 24/13/PADG/2022\n",
        "url_pdf2 = \"https://www.bi.go.id/id/publikasi/peraturan/Documents/PADG_162024.pdf\"\n",
        "\n",
        "# Download dan ekstrak teks dari kedua PDF\n",
        "text_pdf1 = download_and_extract_pdf(url_pdf1)\n",
        "text_pdf2 = download_and_extract_pdf(url_pdf2)\n",
        "\n",
        "# Hitung similarity antar dokumen\n",
        "similarity_score = calculate_similarity(text_pdf1, text_pdf2)\n",
        "print(f\"Cosine Similarity antara kedua PDF: {similarity_score}\")\n"
      ],
      "metadata": {
        "colab": {
          "base_uri": "https://localhost:8080/"
        },
        "id": "ely5wHuN0C1l",
        "outputId": "73b5a430-58ac-494f-d954-ee40f57d24be"
      },
      "execution_count": 19,
      "outputs": [
        {
          "output_type": "stream",
          "name": "stderr",
          "text": [
            "[nltk_data] Downloading package punkt_tab to /root/nltk_data...\n",
            "[nltk_data]   Unzipping tokenizers/punkt_tab.zip.\n",
            "[nltk_data] Downloading package punkt to /root/nltk_data...\n",
            "[nltk_data]   Package punkt is already up-to-date!\n",
            "[nltk_data] Downloading package punkt to /root/nltk_data...\n",
            "[nltk_data]   Package punkt is already up-to-date!\n"
          ]
        },
        {
          "output_type": "stream",
          "name": "stdout",
          "text": [
            "Cosine Similarity antara kedua PDF: 0.7766687716857341\n"
          ]
        }
      ]
    },
    {
      "cell_type": "code",
      "source": [],
      "metadata": {
        "id": "r-7vfDKx2iis"
      },
      "execution_count": null,
      "outputs": []
    }
  ]
}